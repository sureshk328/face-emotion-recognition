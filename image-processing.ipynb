{
 "cells": [
  {
   "cell_type": "code",
   "execution_count": 1,
   "id": "178b7827",
   "metadata": {},
   "outputs": [],
   "source": [
    "from matplotlib import pyplot as plt\n",
    "import matplotlib.image as mpimg\n",
    "import numpy as np\n",
    "from os import listdir\n",
    "from os.path import isfile, join\n",
    "import cv2\n",
    "import pandas as pd"
   ]
  },
  {
   "cell_type": "code",
   "execution_count": 41,
   "id": "9bb4d05a",
   "metadata": {},
   "outputs": [
    {
     "name": "stdout",
     "output_type": "stream",
     "text": [
      "0\n"
     ]
    }
   ],
   "source": [
    "folder_path=r'C:\\Users\\sures\\Desktop\\Python\\face-emotion-recognition\\images'\n",
    "emotion_labels = ['angry','disgust','fear','happy','neutral', 'sad', 'surprise']\n",
    "dict_emotion={'angry':0,'disgust':1,'fear':2,'happy':3,'neutral':4, 'sad':5, 'surprise':6}\n",
    "print(dict_emotion['angry'])"
   ]
  },
  {
   "cell_type": "code",
   "execution_count": 86,
   "id": "e0d4facf",
   "metadata": {},
   "outputs": [],
   "source": [
    "def prepare_data(type_data):\n",
    "    df= pd.DataFrame([])\n",
    "    for emotion in emotion_labels:\n",
    "        \n",
    "        mypath=folder_path+'/'+type_data+'/'+emotion\n",
    "        all_files = [f for f in listdir(mypath) if isfile(join(mypath, f))]\n",
    "        #print(emotion,':',len(all_files))\n",
    "        for img_file in all_files:\n",
    "            if ('jpg' in img_file) | ('jpeg' in img_file)|('png' in img_file):\n",
    "                X_data = []\n",
    "                imgGray = cv2.imread(mypath+'/'+img_file,0)\n",
    "                X_data.append(imgGray.reshape(1,2304).tolist())\n",
    "                df2=pd.DataFrame(X_data[0])\n",
    "                df2['Target']=dict_emotion[emotion]\n",
    "                df=df.append(df2, ignore_index=True)\n",
    "    return df"
   ]
  },
  {
   "cell_type": "code",
   "execution_count": 99,
   "id": "72b4174f",
   "metadata": {},
   "outputs": [],
   "source": [
    "#preparing training set\n",
    "#prepara_data(\"train\")\n",
    "X= pd.DataFrame([])\n",
    "X=prepare_data(\"train\")\n",
    "X_T= pd.DataFrame([])\n",
    "X_T=prepare_data(\"validation\")"
   ]
  },
  {
   "cell_type": "code",
   "execution_count": 100,
   "id": "b6e55e9e",
   "metadata": {},
   "outputs": [],
   "source": [
    "X.to_csv('train.csv')\n",
    "X_T.to_csv('validation.csv')"
   ]
  },
  {
   "cell_type": "code",
   "execution_count": 101,
   "id": "37abfbb2",
   "metadata": {},
   "outputs": [],
   "source": [
    "Y_train=X['Target']\n",
    "X_train=X.drop('Target',axis=1)\n",
    "Y_test=X_T['Target']\n",
    "X_test=X_T.drop('Target',axis=1)"
   ]
  },
  {
   "cell_type": "code",
   "execution_count": 105,
   "id": "ace35b33",
   "metadata": {},
   "outputs": [
    {
     "name": "stdout",
     "output_type": "stream",
     "text": [
      "0.23676761958675346\n"
     ]
    }
   ],
   "source": [
    "# Save Model Using Pickle\n",
    "import pandas\n",
    "from sklearn import model_selection\n",
    "from sklearn.linear_model import LogisticRegression\n",
    "import pickle\n",
    "from sklearn.feature_extraction.text import TfidfVectorizer\n",
    "from sklearn.naive_bayes import MultinomialNB\n",
    "from sklearn.pipeline import make_pipeline\n",
    "# Create a pipeline\n",
    "model_log = MultinomialNB(alpha=1)\n",
    "\n",
    "test_size = 0.33\n",
    "seed = 7\n",
    "\n",
    "\n",
    "\n",
    "\n",
    "#model_log = LogisticRegression(max_iter=100000000)\n",
    "model_log.fit(X_train, Y_train)\n",
    "# save the model to disk\n",
    "filename = r'C:\\Users\\sures\\Desktop\\Python\\face-emotion-recognition\\nb_model.sav'\n",
    "pickle.dump(model_log, open(filename, 'wb'))\n",
    " \n",
    "# some time later...\n",
    " \n",
    "# load the model from disk\n",
    "loaded_model = pickle.load(open(filename, 'rb'))\n",
    "result = loaded_model.score(X_test, Y_test)\n",
    "print(result)"
   ]
  },
  {
   "cell_type": "code",
   "execution_count": 104,
   "id": "5370098c",
   "metadata": {},
   "outputs": [],
   "source": [
    "mypath=r'C:/Users/sures/Desktop/Python/face-emotion-recognition/images/smalltest/surprise'\n",
    "all_files = [f for f in listdir(mypath) if isfile(join(mypath, f))]\n",
    "X_data = []\n",
    "for img_file in all_files:\n",
    "    if ('jpg' in img_file) | ('jpeg' in img_file)|('png' in img_file):\n",
    "        img = mpimg.imread(mypath+'/'+img_file)\n",
    "        imgGray = cv2.imread(mypath+'/'+img_file,0)\n",
    "        #print(len(imgGray.reshape(1,2304)))\n",
    "        #print(imgGray.reshape(1,2304)[.tolist()])\n",
    "        X_data.append(imgGray.reshape(1,2304))\n",
    "        #myArray = np.vstack(myArray)\n",
    "        #print(X_data)\n"
   ]
  },
  {
   "cell_type": "code",
   "execution_count": 67,
   "id": "c0103bea",
   "metadata": {},
   "outputs": [
    {
     "name": "stdout",
     "output_type": "stream",
     "text": [
      "2\n",
      "[[ 76  60  72 ... 171  49  46]]\n"
     ]
    }
   ],
   "source": [
    "print(len(X_data))\n",
    "print(X_data[0])"
   ]
  },
  {
   "cell_type": "code",
   "execution_count": 68,
   "id": "edad201c",
   "metadata": {},
   "outputs": [],
   "source": [
    "df_test=pd.DataFrame(X_data[0])"
   ]
  },
  {
   "cell_type": "code",
   "execution_count": 69,
   "id": "0ce3597d",
   "metadata": {},
   "outputs": [
    {
     "data": {
      "text/html": [
       "<div>\n",
       "<style scoped>\n",
       "    .dataframe tbody tr th:only-of-type {\n",
       "        vertical-align: middle;\n",
       "    }\n",
       "\n",
       "    .dataframe tbody tr th {\n",
       "        vertical-align: top;\n",
       "    }\n",
       "\n",
       "    .dataframe thead th {\n",
       "        text-align: right;\n",
       "    }\n",
       "</style>\n",
       "<table border=\"1\" class=\"dataframe\">\n",
       "  <thead>\n",
       "    <tr style=\"text-align: right;\">\n",
       "      <th></th>\n",
       "      <th>0</th>\n",
       "      <th>1</th>\n",
       "      <th>2</th>\n",
       "      <th>3</th>\n",
       "      <th>4</th>\n",
       "      <th>5</th>\n",
       "      <th>6</th>\n",
       "      <th>7</th>\n",
       "      <th>8</th>\n",
       "      <th>9</th>\n",
       "      <th>...</th>\n",
       "      <th>2294</th>\n",
       "      <th>2295</th>\n",
       "      <th>2296</th>\n",
       "      <th>2297</th>\n",
       "      <th>2298</th>\n",
       "      <th>2299</th>\n",
       "      <th>2300</th>\n",
       "      <th>2301</th>\n",
       "      <th>2302</th>\n",
       "      <th>2303</th>\n",
       "    </tr>\n",
       "  </thead>\n",
       "  <tbody>\n",
       "    <tr>\n",
       "      <th>0</th>\n",
       "      <td>76</td>\n",
       "      <td>60</td>\n",
       "      <td>72</td>\n",
       "      <td>70</td>\n",
       "      <td>67</td>\n",
       "      <td>61</td>\n",
       "      <td>40</td>\n",
       "      <td>53</td>\n",
       "      <td>79</td>\n",
       "      <td>71</td>\n",
       "      <td>...</td>\n",
       "      <td>174</td>\n",
       "      <td>168</td>\n",
       "      <td>169</td>\n",
       "      <td>163</td>\n",
       "      <td>160</td>\n",
       "      <td>168</td>\n",
       "      <td>168</td>\n",
       "      <td>171</td>\n",
       "      <td>49</td>\n",
       "      <td>46</td>\n",
       "    </tr>\n",
       "  </tbody>\n",
       "</table>\n",
       "<p>1 rows × 2304 columns</p>\n",
       "</div>"
      ],
      "text/plain": [
       "   0     1     2     3     4     5     6     7     8     9     ...  2294  \\\n",
       "0    76    60    72    70    67    61    40    53    79    71  ...   174   \n",
       "\n",
       "   2295  2296  2297  2298  2299  2300  2301  2302  2303  \n",
       "0   168   169   163   160   168   168   171    49    46  \n",
       "\n",
       "[1 rows x 2304 columns]"
      ]
     },
     "execution_count": 69,
     "metadata": {},
     "output_type": "execute_result"
    }
   ],
   "source": [
    "df_test"
   ]
  },
  {
   "cell_type": "code",
   "execution_count": null,
   "id": "a9b070f0",
   "metadata": {},
   "outputs": [],
   "source": []
  }
 ],
 "metadata": {
  "kernelspec": {
   "display_name": "Python 3 (ipykernel)",
   "language": "python",
   "name": "python3"
  },
  "language_info": {
   "codemirror_mode": {
    "name": "ipython",
    "version": 3
   },
   "file_extension": ".py",
   "mimetype": "text/x-python",
   "name": "python",
   "nbconvert_exporter": "python",
   "pygments_lexer": "ipython3",
   "version": "3.9.7"
  }
 },
 "nbformat": 4,
 "nbformat_minor": 5
}
