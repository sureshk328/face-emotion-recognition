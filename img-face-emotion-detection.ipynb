{
 "cells": [
  {
   "cell_type": "code",
   "execution_count": 1,
   "id": "f48e8661",
   "metadata": {},
   "outputs": [],
   "source": [
    "import cv2\n",
    "import numpy as np\n",
    "import os\n",
    "from keras.models import load_model\n",
    "from keras.preprocessing.image import img_to_array\n",
    "from keras.preprocessing import image"
   ]
  },
  {
   "cell_type": "code",
   "execution_count": 2,
   "id": "6e7648ce",
   "metadata": {},
   "outputs": [],
   "source": [
    "imglist = [\"fer-Test1.jpg\", \"fer-Test2.jpeg\", \"fer-Test5.png\",\"fer-Test3.jpeg\",\"fer-Test4.jpg\",\"fer-Test6.jpeg\",\"fer-Test7.jpg\",\"fer-Test8.jpg\"]\n",
    "output_folder='output/'"
   ]
  },
  {
   "cell_type": "code",
   "execution_count": 3,
   "id": "316f1194",
   "metadata": {},
   "outputs": [],
   "source": [
    "face_classifier = cv2.CascadeClassifier(cv2.data.haarcascades + 'haarcascade_frontalface_default.xml')\n",
    "emotion_classifier =load_model('model/model.h5')\n",
    "emotion_labels = ['Angry','Disgust','Fear','Happy','Neutral', 'Sad', 'Surprise']"
   ]
  },
  {
   "cell_type": "code",
   "execution_count": 4,
   "id": "9bcb53ec",
   "metadata": {},
   "outputs": [],
   "source": [
    "def detect_emotion(image_path):\n",
    "    img = cv2.imread(image_path)\n",
    "    labels = []\n",
    "    gray = cv2.cvtColor(img,cv2.COLOR_BGR2GRAY)\n",
    "    faces = face_classifier.detectMultiScale(gray)\n",
    "    for (x,y,w,h) in faces:\n",
    "        cv2.rectangle(img,(x,y),(x+w,y+h),(0,255,255),2)\n",
    "        roi_gray = gray[y:y+h,x:x+w]\n",
    "        roi_gray = cv2.resize(roi_gray,(48,48),interpolation=cv2.INTER_AREA)\n",
    "        if np.sum([roi_gray])!=0:\n",
    "            roi = roi_gray.astype('float')/255.0\n",
    "            roi = img_to_array(roi)\n",
    "            roi = np.expand_dims(roi,axis=0)\n",
    "\n",
    "            prediction = emotion_classifier.predict(roi)[0]\n",
    "\n",
    "            label=emotion_labels[prediction.argmax()]+'('+str(round((max(prediction)*100),2))+'%)'\n",
    "            #print(\"prediction\",prediction)\n",
    "            label_position = (x,y)\n",
    "            cv2.putText(img,label,label_position,cv2.FONT_HERSHEY_SIMPLEX,1,(0,255,0),2)\n",
    "    \n",
    "    cv2.imwrite(output_folder+image_path, img)\n",
    "    print(\"Img Saved\")\n"
   ]
  },
  {
   "cell_type": "code",
   "execution_count": 5,
   "id": "209aede6",
   "metadata": {},
   "outputs": [
    {
     "name": "stdout",
     "output_type": "stream",
     "text": [
      "fer-Test1.jpg\n",
      "Img Saved\n",
      "fer-Test2.jpeg\n",
      "Img Saved\n",
      "fer-Test5.png\n",
      "Img Saved\n",
      "fer-Test3.jpeg\n",
      "Img Saved\n",
      "fer-Test4.jpg\n",
      "Img Saved\n",
      "fer-Test6.jpeg\n",
      "Img Saved\n",
      "fer-Test7.jpg\n",
      "Img Saved\n",
      "fer-Test8.jpg\n",
      "Img Saved\n"
     ]
    }
   ],
   "source": [
    "for image_path in imglist:\n",
    "  print(image_path)\n",
    "  detect_emotion(image_path)"
   ]
  },
  {
   "cell_type": "code",
   "execution_count": null,
   "id": "e480d646",
   "metadata": {},
   "outputs": [],
   "source": []
  }
 ],
 "metadata": {
  "kernelspec": {
   "display_name": "Python 3 (ipykernel)",
   "language": "python",
   "name": "python3"
  },
  "language_info": {
   "codemirror_mode": {
    "name": "ipython",
    "version": 3
   },
   "file_extension": ".py",
   "mimetype": "text/x-python",
   "name": "python",
   "nbconvert_exporter": "python",
   "pygments_lexer": "ipython3",
   "version": "3.9.7"
  }
 },
 "nbformat": 4,
 "nbformat_minor": 5
}
