{
 "cells": [
  {
   "cell_type": "code",
   "execution_count": 78,
   "id": "285a6d7d",
   "metadata": {},
   "outputs": [],
   "source": [
    "from matplotlib import pyplot as plt\n",
    "import matplotlib.image as mpimg\n",
    "import numpy as np\n",
    "from os import listdir\n",
    "from os.path import isfile, join\n",
    "import cv2\n",
    "import pandas as pd\n",
    "from keras.models import load_model\n",
    "from keras.preprocessing.image import img_to_array\n",
    "from keras.preprocessing import image"
   ]
  },
  {
   "cell_type": "code",
   "execution_count": 73,
   "id": "6d215516",
   "metadata": {},
   "outputs": [
    {
     "name": "stdout",
     "output_type": "stream",
     "text": [
      "0\n"
     ]
    }
   ],
   "source": [
    "folder_path=r'C:\\Users\\sures\\Desktop\\Python\\face-emotion-recognition\\images'\n",
    "emotion_labels = ['angry','disgust','fear','happy','neutral', 'sad', 'surprise']\n",
    "dict_emotion={'angry':0,'disgust':1,'fear':2,'happy':3,'neutral':4, 'sad':5, 'surprise':6}\n",
    "print(dict_emotion['angry'])"
   ]
  },
  {
   "cell_type": "code",
   "execution_count": 72,
   "id": "9d2f9ab9",
   "metadata": {},
   "outputs": [],
   "source": [
    "face_classifier = cv2.CascadeClassifier(cv2.data.haarcascades + 'haarcascade_frontalface_default.xml')\n",
    "emotion_classifier =load_model('model/model.h5')"
   ]
  },
  {
   "cell_type": "code",
   "execution_count": 55,
   "id": "5328d23f",
   "metadata": {},
   "outputs": [],
   "source": [
    "def prepare_data(type_data):\n",
    "    df= pd.DataFrame([])\n",
    "    for emotion in emotion_labels:\n",
    "        \n",
    "        mypath=folder_path+'/'+type_data+'/'+emotion\n",
    "        all_files = [f for f in listdir(mypath) if isfile(join(mypath, f))]\n",
    "        #print(emotion,':',len(all_files))\n",
    "        for img_file in all_files:\n",
    "            if ('jpg' in img_file) | ('jpeg' in img_file)|('png' in img_file):\n",
    "                data=[]\n",
    "                data.append([mypath+'/'+img_file,emotion])\n",
    "                \n",
    "                df=df.append(data, ignore_index=True)\n",
    "    return df"
   ]
  },
  {
   "cell_type": "code",
   "execution_count": 56,
   "id": "eb706f07",
   "metadata": {},
   "outputs": [],
   "source": [
    "def detect_emotion(image_path):\n",
    "    img = cv2.imread(image_path)\n",
    "    labels = []\n",
    "    gray = cv2.cvtColor(img,cv2.COLOR_BGR2GRAY)\n",
    "    faces = face_classifier.detectMultiScale(gray)\n",
    "    for (x,y,w,h) in faces:\n",
    "        cv2.rectangle(img,(x,y),(x+w,y+h),(0,255,255),2)\n",
    "        roi_gray = gray[y:y+h,x:x+w]\n",
    "        roi_gray = cv2.resize(roi_gray,(48,48),interpolation=cv2.INTER_AREA)\n",
    "        if True:\n",
    "            roi = roi_gray.astype('float')/255.0\n",
    "            roi = img_to_array(roi)\n",
    "            roi = np.expand_dims(roi,axis=0)\n",
    "\n",
    "            prediction = emotion_classifier.predict(roi)[0]\n",
    "\n",
    "            label=emotion_labels[prediction.argmax()]\n",
    "            return label"
   ]
  },
  {
   "cell_type": "code",
   "execution_count": 74,
   "id": "8f877746",
   "metadata": {},
   "outputs": [],
   "source": [
    "X= pd.DataFrame([])\n",
    "X=prepare_data(\"validation\")"
   ]
  },
  {
   "cell_type": "code",
   "execution_count": 75,
   "id": "547da7b5",
   "metadata": {},
   "outputs": [
    {
     "name": "stdout",
     "output_type": "stream",
     "text": [
      "10677\n"
     ]
    }
   ],
   "source": [
    "print(len(X))"
   ]
  },
  {
   "cell_type": "code",
   "execution_count": 76,
   "id": "3a80944d",
   "metadata": {},
   "outputs": [
    {
     "data": {
      "text/html": [
       "<div>\n",
       "<style scoped>\n",
       "    .dataframe tbody tr th:only-of-type {\n",
       "        vertical-align: middle;\n",
       "    }\n",
       "\n",
       "    .dataframe tbody tr th {\n",
       "        vertical-align: top;\n",
       "    }\n",
       "\n",
       "    .dataframe thead th {\n",
       "        text-align: right;\n",
       "    }\n",
       "</style>\n",
       "<table border=\"1\" class=\"dataframe\">\n",
       "  <thead>\n",
       "    <tr style=\"text-align: right;\">\n",
       "      <th></th>\n",
       "      <th>0</th>\n",
       "      <th>1</th>\n",
       "    </tr>\n",
       "  </thead>\n",
       "  <tbody>\n",
       "    <tr>\n",
       "      <th>0</th>\n",
       "      <td>C:\\Users\\sures\\Desktop\\Python\\face-emotion-rec...</td>\n",
       "      <td>angry</td>\n",
       "    </tr>\n",
       "    <tr>\n",
       "      <th>1</th>\n",
       "      <td>C:\\Users\\sures\\Desktop\\Python\\face-emotion-rec...</td>\n",
       "      <td>angry</td>\n",
       "    </tr>\n",
       "    <tr>\n",
       "      <th>2</th>\n",
       "      <td>C:\\Users\\sures\\Desktop\\Python\\face-emotion-rec...</td>\n",
       "      <td>angry</td>\n",
       "    </tr>\n",
       "    <tr>\n",
       "      <th>3</th>\n",
       "      <td>C:\\Users\\sures\\Desktop\\Python\\face-emotion-rec...</td>\n",
       "      <td>angry</td>\n",
       "    </tr>\n",
       "    <tr>\n",
       "      <th>4</th>\n",
       "      <td>C:\\Users\\sures\\Desktop\\Python\\face-emotion-rec...</td>\n",
       "      <td>angry</td>\n",
       "    </tr>\n",
       "    <tr>\n",
       "      <th>5</th>\n",
       "      <td>C:\\Users\\sures\\Desktop\\Python\\face-emotion-rec...</td>\n",
       "      <td>angry</td>\n",
       "    </tr>\n",
       "    <tr>\n",
       "      <th>6</th>\n",
       "      <td>C:\\Users\\sures\\Desktop\\Python\\face-emotion-rec...</td>\n",
       "      <td>angry</td>\n",
       "    </tr>\n",
       "    <tr>\n",
       "      <th>7</th>\n",
       "      <td>C:\\Users\\sures\\Desktop\\Python\\face-emotion-rec...</td>\n",
       "      <td>angry</td>\n",
       "    </tr>\n",
       "    <tr>\n",
       "      <th>8</th>\n",
       "      <td>C:\\Users\\sures\\Desktop\\Python\\face-emotion-rec...</td>\n",
       "      <td>angry</td>\n",
       "    </tr>\n",
       "    <tr>\n",
       "      <th>9</th>\n",
       "      <td>C:\\Users\\sures\\Desktop\\Python\\face-emotion-rec...</td>\n",
       "      <td>angry</td>\n",
       "    </tr>\n",
       "  </tbody>\n",
       "</table>\n",
       "</div>"
      ],
      "text/plain": [
       "                                                   0      1\n",
       "0  C:\\Users\\sures\\Desktop\\Python\\face-emotion-rec...  angry\n",
       "1  C:\\Users\\sures\\Desktop\\Python\\face-emotion-rec...  angry\n",
       "2  C:\\Users\\sures\\Desktop\\Python\\face-emotion-rec...  angry\n",
       "3  C:\\Users\\sures\\Desktop\\Python\\face-emotion-rec...  angry\n",
       "4  C:\\Users\\sures\\Desktop\\Python\\face-emotion-rec...  angry\n",
       "5  C:\\Users\\sures\\Desktop\\Python\\face-emotion-rec...  angry\n",
       "6  C:\\Users\\sures\\Desktop\\Python\\face-emotion-rec...  angry\n",
       "7  C:\\Users\\sures\\Desktop\\Python\\face-emotion-rec...  angry\n",
       "8  C:\\Users\\sures\\Desktop\\Python\\face-emotion-rec...  angry\n",
       "9  C:\\Users\\sures\\Desktop\\Python\\face-emotion-rec...  angry"
      ]
     },
     "execution_count": 76,
     "metadata": {},
     "output_type": "execute_result"
    }
   ],
   "source": [
    "X.head(10)"
   ]
  },
  {
   "cell_type": "code",
   "execution_count": null,
   "id": "b92f28af",
   "metadata": {},
   "outputs": [],
   "source": [
    "y= pd.DataFrame([])\n",
    "for index, row in X.iterrows():\n",
    "    prediction=detect_emotion(row[0])\n",
    "    #print(prediction)\n",
    "    y=y.append([prediction], ignore_index=True)\n",
    "    "
   ]
  },
  {
   "cell_type": "code",
   "execution_count": 69,
   "id": "5be7788e",
   "metadata": {},
   "outputs": [
    {
     "data": {
      "text/html": [
       "<div>\n",
       "<style scoped>\n",
       "    .dataframe tbody tr th:only-of-type {\n",
       "        vertical-align: middle;\n",
       "    }\n",
       "\n",
       "    .dataframe tbody tr th {\n",
       "        vertical-align: top;\n",
       "    }\n",
       "\n",
       "    .dataframe thead th {\n",
       "        text-align: right;\n",
       "    }\n",
       "</style>\n",
       "<table border=\"1\" class=\"dataframe\">\n",
       "  <thead>\n",
       "    <tr style=\"text-align: right;\">\n",
       "      <th></th>\n",
       "      <th>0</th>\n",
       "    </tr>\n",
       "  </thead>\n",
       "  <tbody>\n",
       "    <tr>\n",
       "      <th>0</th>\n",
       "      <td>fear</td>\n",
       "    </tr>\n",
       "  </tbody>\n",
       "</table>\n",
       "</div>"
      ],
      "text/plain": [
       "      0\n",
       "0  fear"
      ]
     },
     "execution_count": 69,
     "metadata": {},
     "output_type": "execute_result"
    }
   ],
   "source": [
    "y.head(1)"
   ]
  },
  {
   "cell_type": "code",
   "execution_count": 70,
   "id": "eb8dd8d9",
   "metadata": {},
   "outputs": [],
   "source": [
    "X['Prediction']=y"
   ]
  },
  {
   "cell_type": "code",
   "execution_count": 71,
   "id": "a62af1fc",
   "metadata": {},
   "outputs": [
    {
     "data": {
      "text/html": [
       "<div>\n",
       "<style scoped>\n",
       "    .dataframe tbody tr th:only-of-type {\n",
       "        vertical-align: middle;\n",
       "    }\n",
       "\n",
       "    .dataframe tbody tr th {\n",
       "        vertical-align: top;\n",
       "    }\n",
       "\n",
       "    .dataframe thead th {\n",
       "        text-align: right;\n",
       "    }\n",
       "</style>\n",
       "<table border=\"1\" class=\"dataframe\">\n",
       "  <thead>\n",
       "    <tr style=\"text-align: right;\">\n",
       "      <th></th>\n",
       "      <th>0</th>\n",
       "      <th>1</th>\n",
       "      <th>Prediction</th>\n",
       "    </tr>\n",
       "  </thead>\n",
       "  <tbody>\n",
       "    <tr>\n",
       "      <th>0</th>\n",
       "      <td>C:\\Users\\sures\\Desktop\\Python\\face-emotion-rec...</td>\n",
       "      <td>angry</td>\n",
       "      <td>fear</td>\n",
       "    </tr>\n",
       "    <tr>\n",
       "      <th>1</th>\n",
       "      <td>C:\\Users\\sures\\Desktop\\Python\\face-emotion-rec...</td>\n",
       "      <td>angry</td>\n",
       "      <td>fear</td>\n",
       "    </tr>\n",
       "    <tr>\n",
       "      <th>2</th>\n",
       "      <td>C:\\Users\\sures\\Desktop\\Python\\face-emotion-rec...</td>\n",
       "      <td>angry</td>\n",
       "      <td>fear</td>\n",
       "    </tr>\n",
       "    <tr>\n",
       "      <th>3</th>\n",
       "      <td>C:\\Users\\sures\\Desktop\\Python\\face-emotion-rec...</td>\n",
       "      <td>angry</td>\n",
       "      <td>fear</td>\n",
       "    </tr>\n",
       "    <tr>\n",
       "      <th>4</th>\n",
       "      <td>C:\\Users\\sures\\Desktop\\Python\\face-emotion-rec...</td>\n",
       "      <td>angry</td>\n",
       "      <td>fear</td>\n",
       "    </tr>\n",
       "    <tr>\n",
       "      <th>5</th>\n",
       "      <td>C:\\Users\\sures\\Desktop\\Python\\face-emotion-rec...</td>\n",
       "      <td>angry</td>\n",
       "      <td>fear</td>\n",
       "    </tr>\n",
       "    <tr>\n",
       "      <th>6</th>\n",
       "      <td>C:\\Users\\sures\\Desktop\\Python\\face-emotion-rec...</td>\n",
       "      <td>angry</td>\n",
       "      <td>fear</td>\n",
       "    </tr>\n",
       "    <tr>\n",
       "      <th>7</th>\n",
       "      <td>C:\\Users\\sures\\Desktop\\Python\\face-emotion-rec...</td>\n",
       "      <td>angry</td>\n",
       "      <td>fear</td>\n",
       "    </tr>\n",
       "    <tr>\n",
       "      <th>8</th>\n",
       "      <td>C:\\Users\\sures\\Desktop\\Python\\face-emotion-rec...</td>\n",
       "      <td>angry</td>\n",
       "      <td>fear</td>\n",
       "    </tr>\n",
       "    <tr>\n",
       "      <th>9</th>\n",
       "      <td>C:\\Users\\sures\\Desktop\\Python\\face-emotion-rec...</td>\n",
       "      <td>angry</td>\n",
       "      <td>fear</td>\n",
       "    </tr>\n",
       "  </tbody>\n",
       "</table>\n",
       "</div>"
      ],
      "text/plain": [
       "                                                   0      1 Prediction\n",
       "0  C:\\Users\\sures\\Desktop\\Python\\face-emotion-rec...  angry       fear\n",
       "1  C:\\Users\\sures\\Desktop\\Python\\face-emotion-rec...  angry       fear\n",
       "2  C:\\Users\\sures\\Desktop\\Python\\face-emotion-rec...  angry       fear\n",
       "3  C:\\Users\\sures\\Desktop\\Python\\face-emotion-rec...  angry       fear\n",
       "4  C:\\Users\\sures\\Desktop\\Python\\face-emotion-rec...  angry       fear\n",
       "5  C:\\Users\\sures\\Desktop\\Python\\face-emotion-rec...  angry       fear\n",
       "6  C:\\Users\\sures\\Desktop\\Python\\face-emotion-rec...  angry       fear\n",
       "7  C:\\Users\\sures\\Desktop\\Python\\face-emotion-rec...  angry       fear\n",
       "8  C:\\Users\\sures\\Desktop\\Python\\face-emotion-rec...  angry       fear\n",
       "9  C:\\Users\\sures\\Desktop\\Python\\face-emotion-rec...  angry       fear"
      ]
     },
     "execution_count": 71,
     "metadata": {},
     "output_type": "execute_result"
    }
   ],
   "source": [
    "X.head(10)"
   ]
  },
  {
   "cell_type": "code",
   "execution_count": 63,
   "id": "25ecf4b7",
   "metadata": {},
   "outputs": [],
   "source": [
    "X.to_csv('fer.csv')"
   ]
  },
  {
   "cell_type": "code",
   "execution_count": 52,
   "id": "99d51fcd",
   "metadata": {},
   "outputs": [],
   "source": [
    "for index, row in X.iterrows():\n",
    "    if not row['Prediction']:\n",
    "        os.remove(row[0])"
   ]
  },
  {
   "cell_type": "code",
   "execution_count": null,
   "id": "e9f40307",
   "metadata": {},
   "outputs": [],
   "source": []
  }
 ],
 "metadata": {
  "kernelspec": {
   "display_name": "Python 3 (ipykernel)",
   "language": "python",
   "name": "python3"
  },
  "language_info": {
   "codemirror_mode": {
    "name": "ipython",
    "version": 3
   },
   "file_extension": ".py",
   "mimetype": "text/x-python",
   "name": "python",
   "nbconvert_exporter": "python",
   "pygments_lexer": "ipython3",
   "version": "3.9.7"
  }
 },
 "nbformat": 4,
 "nbformat_minor": 5
}
