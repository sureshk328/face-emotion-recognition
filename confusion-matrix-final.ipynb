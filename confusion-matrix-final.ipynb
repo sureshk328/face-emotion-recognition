{
 "cells": [
  {
   "cell_type": "code",
   "execution_count": 57,
   "id": "ab2094bd",
   "metadata": {},
   "outputs": [],
   "source": [
    "import cv2\n",
    "import numpy as np\n",
    "import os\n",
    "from keras.models import load_model\n",
    "from keras.preprocessing.image import img_to_array\n",
    "from keras.preprocessing import image\n",
    "from sklearn.metrics import ConfusionMatrixDisplay\n",
    "from sklearn.metrics import confusion_matrix\n",
    "from sklearn.metrics import accuracy_score\n",
    "import matplotlib.pyplot as plt\n",
    "import seaborn as sns\n",
    "import matplotlib\n",
    "from sklearn.metrics import classification_report\n",
    "import pandas as pd\n",
    "import seaborn as sns\n",
    "import os\n",
    "from keras.preprocessing.image import load_img, img_to_array\n",
    "from keras.preprocessing.image import ImageDataGenerator\n",
    "from keras.models import Model, Sequential\n",
    "from os import listdir\n",
    "from os.path import isfile, join\n",
    "import cv2\n"
   ]
  },
  {
   "cell_type": "code",
   "execution_count": 52,
   "id": "9c25b685",
   "metadata": {},
   "outputs": [
    {
     "name": "stdout",
     "output_type": "stream",
     "text": [
      "0\n"
     ]
    }
   ],
   "source": [
    "folder_path=r'C:\\Users\\sures\\Desktop\\Python\\face-emotion-recognition\\images'\n",
    "emotion_labels = ['angry','disgust','fear','happy','neutral', 'sad', 'surprise']\n",
    "dict_emotion={'angry':0,'disgust':1,'fear':2,'happy':3,'neutral':4, 'sad':5, 'surprise':6}\n",
    "print(dict_emotion['angry'])"
   ]
  },
  {
   "cell_type": "code",
   "execution_count": 53,
   "id": "90c56a23",
   "metadata": {},
   "outputs": [],
   "source": [
    "face_classifier = cv2.CascadeClassifier(cv2.data.haarcascades + 'haarcascade_frontalface_default.xml')\n",
    "emotion_classifier =load_model('model/model.h5')"
   ]
  },
  {
   "cell_type": "code",
   "execution_count": 62,
   "id": "d9da535b",
   "metadata": {},
   "outputs": [],
   "source": [
    "def prepare_data(type_data):\n",
    "    df= pd.DataFrame([])\n",
    "    for emotion in emotion_labels:\n",
    "        \n",
    "        mypath=folder_path+'/'+type_data+'/'+emotion\n",
    "        all_files = [f for f in listdir(mypath) if isfile(join(mypath, f))]\n",
    "        #print(emotion,':',len(all_files))\n",
    "        for img_file in all_files:\n",
    "            if ('jpg' in img_file) | ('jpeg' in img_file)|('png' in img_file):\n",
    "                data=[]\n",
    "                data.append([mypath+'/'+img_file,dict_emotion[emotion]])\n",
    "                \n",
    "                df=df.append(data, ignore_index=True)\n",
    "    return df"
   ]
  },
  {
   "cell_type": "code",
   "execution_count": 61,
   "id": "309a11ca",
   "metadata": {},
   "outputs": [],
   "source": [
    "def detect_emotion(image_path):\n",
    "    img = cv2.imread(image_path)\n",
    "    labels = []\n",
    "    gray = cv2.cvtColor(img,cv2.COLOR_BGR2GRAY)\n",
    "    faces = face_classifier.detectMultiScale(gray)\n",
    "    for (x,y,w,h) in faces:\n",
    "        cv2.rectangle(img,(x,y),(x+w,y+h),(0,255,255),2)\n",
    "        roi_gray = gray[y:y+h,x:x+w]\n",
    "        roi_gray = cv2.resize(roi_gray,(48,48),interpolation=cv2.INTER_AREA)\n",
    "        if True:\n",
    "            roi = roi_gray.astype('float')/255.0\n",
    "            roi = img_to_array(roi)\n",
    "            roi = np.expand_dims(roi,axis=0)\n",
    "\n",
    "            prediction = emotion_classifier.predict(roi)[0]\n",
    "\n",
    "            label=prediction.argmax()\n",
    "            return label"
   ]
  },
  {
   "cell_type": "code",
   "execution_count": 63,
   "id": "e19a57b9",
   "metadata": {},
   "outputs": [],
   "source": [
    "X= pd.DataFrame([])\n",
    "X=prepare_data(\"validation\")"
   ]
  },
  {
   "cell_type": "code",
   "execution_count": 64,
   "id": "59a45790",
   "metadata": {},
   "outputs": [
    {
     "data": {
      "text/html": [
       "<div>\n",
       "<style scoped>\n",
       "    .dataframe tbody tr th:only-of-type {\n",
       "        vertical-align: middle;\n",
       "    }\n",
       "\n",
       "    .dataframe tbody tr th {\n",
       "        vertical-align: top;\n",
       "    }\n",
       "\n",
       "    .dataframe thead th {\n",
       "        text-align: right;\n",
       "    }\n",
       "</style>\n",
       "<table border=\"1\" class=\"dataframe\">\n",
       "  <thead>\n",
       "    <tr style=\"text-align: right;\">\n",
       "      <th></th>\n",
       "      <th>0</th>\n",
       "      <th>1</th>\n",
       "    </tr>\n",
       "  </thead>\n",
       "  <tbody>\n",
       "    <tr>\n",
       "      <th>0</th>\n",
       "      <td>C:\\Users\\sures\\Desktop\\Python\\face-emotion-rec...</td>\n",
       "      <td>0</td>\n",
       "    </tr>\n",
       "    <tr>\n",
       "      <th>1</th>\n",
       "      <td>C:\\Users\\sures\\Desktop\\Python\\face-emotion-rec...</td>\n",
       "      <td>0</td>\n",
       "    </tr>\n",
       "    <tr>\n",
       "      <th>2</th>\n",
       "      <td>C:\\Users\\sures\\Desktop\\Python\\face-emotion-rec...</td>\n",
       "      <td>0</td>\n",
       "    </tr>\n",
       "    <tr>\n",
       "      <th>3</th>\n",
       "      <td>C:\\Users\\sures\\Desktop\\Python\\face-emotion-rec...</td>\n",
       "      <td>0</td>\n",
       "    </tr>\n",
       "    <tr>\n",
       "      <th>4</th>\n",
       "      <td>C:\\Users\\sures\\Desktop\\Python\\face-emotion-rec...</td>\n",
       "      <td>0</td>\n",
       "    </tr>\n",
       "    <tr>\n",
       "      <th>5</th>\n",
       "      <td>C:\\Users\\sures\\Desktop\\Python\\face-emotion-rec...</td>\n",
       "      <td>0</td>\n",
       "    </tr>\n",
       "    <tr>\n",
       "      <th>6</th>\n",
       "      <td>C:\\Users\\sures\\Desktop\\Python\\face-emotion-rec...</td>\n",
       "      <td>0</td>\n",
       "    </tr>\n",
       "    <tr>\n",
       "      <th>7</th>\n",
       "      <td>C:\\Users\\sures\\Desktop\\Python\\face-emotion-rec...</td>\n",
       "      <td>0</td>\n",
       "    </tr>\n",
       "    <tr>\n",
       "      <th>8</th>\n",
       "      <td>C:\\Users\\sures\\Desktop\\Python\\face-emotion-rec...</td>\n",
       "      <td>0</td>\n",
       "    </tr>\n",
       "    <tr>\n",
       "      <th>9</th>\n",
       "      <td>C:\\Users\\sures\\Desktop\\Python\\face-emotion-rec...</td>\n",
       "      <td>0</td>\n",
       "    </tr>\n",
       "  </tbody>\n",
       "</table>\n",
       "</div>"
      ],
      "text/plain": [
       "                                                   0  1\n",
       "0  C:\\Users\\sures\\Desktop\\Python\\face-emotion-rec...  0\n",
       "1  C:\\Users\\sures\\Desktop\\Python\\face-emotion-rec...  0\n",
       "2  C:\\Users\\sures\\Desktop\\Python\\face-emotion-rec...  0\n",
       "3  C:\\Users\\sures\\Desktop\\Python\\face-emotion-rec...  0\n",
       "4  C:\\Users\\sures\\Desktop\\Python\\face-emotion-rec...  0\n",
       "5  C:\\Users\\sures\\Desktop\\Python\\face-emotion-rec...  0\n",
       "6  C:\\Users\\sures\\Desktop\\Python\\face-emotion-rec...  0\n",
       "7  C:\\Users\\sures\\Desktop\\Python\\face-emotion-rec...  0\n",
       "8  C:\\Users\\sures\\Desktop\\Python\\face-emotion-rec...  0\n",
       "9  C:\\Users\\sures\\Desktop\\Python\\face-emotion-rec...  0"
      ]
     },
     "execution_count": 64,
     "metadata": {},
     "output_type": "execute_result"
    }
   ],
   "source": [
    "X.head(10)"
   ]
  },
  {
   "cell_type": "code",
   "execution_count": 65,
   "id": "f1e2b39f",
   "metadata": {},
   "outputs": [],
   "source": [
    "y= pd.DataFrame([])\n",
    "for index, row in X.iterrows():\n",
    "    prediction=detect_emotion(row[0])\n",
    "    #print(prediction)\n",
    "    y=y.append([prediction], ignore_index=True)\n",
    "    \n",
    "X['Prediction']=y"
   ]
  },
  {
   "cell_type": "code",
   "execution_count": 73,
   "id": "a8eb02e4",
   "metadata": {},
   "outputs": [
    {
     "data": {
      "text/html": [
       "<div>\n",
       "<style scoped>\n",
       "    .dataframe tbody tr th:only-of-type {\n",
       "        vertical-align: middle;\n",
       "    }\n",
       "\n",
       "    .dataframe tbody tr th {\n",
       "        vertical-align: top;\n",
       "    }\n",
       "\n",
       "    .dataframe thead th {\n",
       "        text-align: right;\n",
       "    }\n",
       "</style>\n",
       "<table border=\"1\" class=\"dataframe\">\n",
       "  <thead>\n",
       "    <tr style=\"text-align: right;\">\n",
       "      <th></th>\n",
       "      <th>0</th>\n",
       "    </tr>\n",
       "  </thead>\n",
       "  <tbody>\n",
       "    <tr>\n",
       "      <th>0</th>\n",
       "      <td>0</td>\n",
       "    </tr>\n",
       "    <tr>\n",
       "      <th>1</th>\n",
       "      <td>0</td>\n",
       "    </tr>\n",
       "    <tr>\n",
       "      <th>2</th>\n",
       "      <td>0</td>\n",
       "    </tr>\n",
       "    <tr>\n",
       "      <th>3</th>\n",
       "      <td>0</td>\n",
       "    </tr>\n",
       "    <tr>\n",
       "      <th>4</th>\n",
       "      <td>0</td>\n",
       "    </tr>\n",
       "    <tr>\n",
       "      <th>...</th>\n",
       "      <td>...</td>\n",
       "    </tr>\n",
       "    <tr>\n",
       "      <th>10672</th>\n",
       "      <td>6</td>\n",
       "    </tr>\n",
       "    <tr>\n",
       "      <th>10673</th>\n",
       "      <td>6</td>\n",
       "    </tr>\n",
       "    <tr>\n",
       "      <th>10674</th>\n",
       "      <td>6</td>\n",
       "    </tr>\n",
       "    <tr>\n",
       "      <th>10675</th>\n",
       "      <td>6</td>\n",
       "    </tr>\n",
       "    <tr>\n",
       "      <th>10676</th>\n",
       "      <td>6</td>\n",
       "    </tr>\n",
       "  </tbody>\n",
       "</table>\n",
       "<p>10677 rows × 1 columns</p>\n",
       "</div>"
      ],
      "text/plain": [
       "       0\n",
       "0      0\n",
       "1      0\n",
       "2      0\n",
       "3      0\n",
       "4      0\n",
       "...   ..\n",
       "10672  6\n",
       "10673  6\n",
       "10674  6\n",
       "10675  6\n",
       "10676  6\n",
       "\n",
       "[10677 rows x 1 columns]"
      ]
     },
     "execution_count": 73,
     "metadata": {},
     "output_type": "execute_result"
    }
   ],
   "source": [
    "y"
   ]
  },
  {
   "cell_type": "code",
   "execution_count": 46,
   "id": "9fa2b583",
   "metadata": {},
   "outputs": [
    {
     "data": {
      "text/plain": [
       "array([0, 0, 0, ..., 6, 6, 6])"
      ]
     },
     "execution_count": 46,
     "metadata": {},
     "output_type": "execute_result"
    }
   ],
   "source": [
    "test_set.classes"
   ]
  },
  {
   "cell_type": "code",
   "execution_count": 47,
   "id": "db9336c8",
   "metadata": {},
   "outputs": [
    {
     "data": {
      "text/plain": [
       "array([0, 0, 6, ..., 6, 6, 0], dtype=int64)"
      ]
     },
     "execution_count": 47,
     "metadata": {},
     "output_type": "execute_result"
    }
   ],
   "source": [
    "y_pred"
   ]
  },
  {
   "cell_type": "code",
   "execution_count": 71,
   "id": "c1e9efa2",
   "metadata": {},
   "outputs": [
    {
     "data": {
      "text/html": [
       "<div>\n",
       "<style scoped>\n",
       "    .dataframe tbody tr th:only-of-type {\n",
       "        vertical-align: middle;\n",
       "    }\n",
       "\n",
       "    .dataframe tbody tr th {\n",
       "        vertical-align: top;\n",
       "    }\n",
       "\n",
       "    .dataframe thead th {\n",
       "        text-align: right;\n",
       "    }\n",
       "</style>\n",
       "<table border=\"1\" class=\"dataframe\">\n",
       "  <thead>\n",
       "    <tr style=\"text-align: right;\">\n",
       "      <th></th>\n",
       "      <th>0</th>\n",
       "    </tr>\n",
       "  </thead>\n",
       "  <tbody>\n",
       "    <tr>\n",
       "      <th>0</th>\n",
       "      <td>0</td>\n",
       "    </tr>\n",
       "    <tr>\n",
       "      <th>1</th>\n",
       "      <td>0</td>\n",
       "    </tr>\n",
       "    <tr>\n",
       "      <th>2</th>\n",
       "      <td>0</td>\n",
       "    </tr>\n",
       "    <tr>\n",
       "      <th>3</th>\n",
       "      <td>0</td>\n",
       "    </tr>\n",
       "    <tr>\n",
       "      <th>4</th>\n",
       "      <td>0</td>\n",
       "    </tr>\n",
       "    <tr>\n",
       "      <th>...</th>\n",
       "      <td>...</td>\n",
       "    </tr>\n",
       "    <tr>\n",
       "      <th>10672</th>\n",
       "      <td>6</td>\n",
       "    </tr>\n",
       "    <tr>\n",
       "      <th>10673</th>\n",
       "      <td>6</td>\n",
       "    </tr>\n",
       "    <tr>\n",
       "      <th>10674</th>\n",
       "      <td>6</td>\n",
       "    </tr>\n",
       "    <tr>\n",
       "      <th>10675</th>\n",
       "      <td>6</td>\n",
       "    </tr>\n",
       "    <tr>\n",
       "      <th>10676</th>\n",
       "      <td>6</td>\n",
       "    </tr>\n",
       "  </tbody>\n",
       "</table>\n",
       "<p>10677 rows × 1 columns</p>\n",
       "</div>"
      ],
      "text/plain": [
       "       0\n",
       "0      0\n",
       "1      0\n",
       "2      0\n",
       "3      0\n",
       "4      0\n",
       "...   ..\n",
       "10672  6\n",
       "10673  6\n",
       "10674  6\n",
       "10675  6\n",
       "10676  6\n",
       "\n",
       "[10677 rows x 1 columns]"
      ]
     },
     "execution_count": 71,
     "metadata": {},
     "output_type": "execute_result"
    }
   ],
   "source": [
    "y"
   ]
  },
  {
   "cell_type": "code",
   "execution_count": 74,
   "id": "6a1eedbc",
   "metadata": {},
   "outputs": [
    {
     "name": "stdout",
     "output_type": "stream",
     "text": [
      "Confusion Matrix\n",
      "[[1288    0   23   14   48   69   16]\n",
      " [ 592    0    2    1    2   14    0]\n",
      " [ 126    0 1126   40   53   39  140]\n",
      " [  16    0    5 2177   32   13   31]\n",
      " [  23    0   25   44 1525   85   31]\n",
      " [  59    0   14   17   92 1547   17]\n",
      " [   7    0   13   11    4    3 1293]]\n"
     ]
    }
   ],
   "source": [
    "y[0].replace({\"None\": -1}, inplace=True)\n",
    "y_pred=y\n",
    "y_true=X[1]\n",
    "\n",
    "print('Confusion Matrix')\n",
    "cfm=confusion_matrix(y_true, y_pred)\n",
    "print(confusion_matrix(y_true, y_pred))"
   ]
  },
  {
   "cell_type": "code",
   "execution_count": 78,
   "id": "5e8b4824",
   "metadata": {},
   "outputs": [
    {
     "data": {
      "text/plain": [
       "<AxesSubplot:>"
      ]
     },
     "execution_count": 78,
     "metadata": {},
     "output_type": "execute_result"
    },
    {
     "data": {
      "image/png": "[encoded data removed]",
      "text/plain": [
       "<Figure size 864x576 with 2 Axes>"
      ]
     },
     "metadata": {
      "needs_background": "light"
     },
     "output_type": "display_data"
    }
   ],
   "source": [
    "matplotlib.rcParams['figure.figsize']=[12.0,8.0]\n",
    "sns.heatmap(cfm, annot=True)"
   ]
  },
  {
   "cell_type": "code",
   "execution_count": 75,
   "id": "dd5b20f8",
   "metadata": {},
   "outputs": [
    {
     "name": "stdout",
     "output_type": "stream",
     "text": [
      "Classification Report\n",
      "              precision    recall  f1-score   support\n",
      "\n",
      "       angry       0.61      0.88      0.72      1458\n",
      "     disgust       0.00      0.00      0.00       611\n",
      "        fear       0.93      0.74      0.82      1524\n",
      "       happy       0.94      0.96      0.95      2274\n",
      "     neutral       0.87      0.88      0.87      1733\n",
      "         sad       0.87      0.89      0.88      1746\n",
      "    surprise       0.85      0.97      0.90      1331\n",
      "\n",
      "    accuracy                           0.84     10677\n",
      "   macro avg       0.73      0.76      0.74     10677\n",
      "weighted avg       0.81      0.84      0.82     10677\n",
      "\n"
     ]
    },
    {
     "name": "stderr",
     "output_type": "stream",
     "text": [
      "C:\\Anaconda\\lib\\site-packages\\sklearn\\metrics\\_classification.py:1248: UndefinedMetricWarning: Precision and F-score are ill-defined and being set to 0.0 in labels with no predicted samples. Use `zero_division` parameter to control this behavior.\n",
      "  _warn_prf(average, modifier, msg_start, len(result))\n",
      "C:\\Anaconda\\lib\\site-packages\\sklearn\\metrics\\_classification.py:1248: UndefinedMetricWarning: Precision and F-score are ill-defined and being set to 0.0 in labels with no predicted samples. Use `zero_division` parameter to control this behavior.\n",
      "  _warn_prf(average, modifier, msg_start, len(result))\n",
      "C:\\Anaconda\\lib\\site-packages\\sklearn\\metrics\\_classification.py:1248: UndefinedMetricWarning: Precision and F-score are ill-defined and being set to 0.0 in labels with no predicted samples. Use `zero_division` parameter to control this behavior.\n",
      "  _warn_prf(average, modifier, msg_start, len(result))\n"
     ]
    }
   ],
   "source": [
    "print('Classification Report')\n",
    "#emotion_labels = ['angry','disgust','fear','happy','neutral', 'sad', 'surprise']\n",
    "print(classification_report(y_true, y_pred, target_names=emotion_labels))"
   ]
  },
  {
   "cell_type": "code",
   "execution_count": 76,
   "id": "6fa1f405",
   "metadata": {},
   "outputs": [
    {
     "data": {
      "text/plain": [
       "0.8388124004870282"
      ]
     },
     "execution_count": 76,
     "metadata": {},
     "output_type": "execute_result"
    }
   ],
   "source": [
    "accuracy_score(test_set.classes, y_pred)"
   ]
  },
  {
   "cell_type": "code",
   "execution_count": null,
   "id": "7a42029a",
   "metadata": {},
   "outputs": [],
   "source": []
  }
 ],
 "metadata": {
  "kernelspec": {
   "display_name": "Python 3 (ipykernel)",
   "language": "python",
   "name": "python3"
  },
  "language_info": {
   "codemirror_mode": {
    "name": "ipython",
    "version": 3
   },
   "file_extension": ".py",
   "mimetype": "text/x-python",
   "name": "python",
   "nbconvert_exporter": "python",
   "pygments_lexer": "ipython3",
   "version": "3.9.7"
  }
 },
 "nbformat": 4,
 "nbformat_minor": 5
}
